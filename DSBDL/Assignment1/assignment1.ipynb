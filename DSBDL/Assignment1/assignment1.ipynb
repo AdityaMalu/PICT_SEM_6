{
 "cells": [
  {
   "cell_type": "markdown",
   "metadata": {},
   "source": [
    "1. Importing needed libraries"
   ]
  },
  {
   "cell_type": "code",
   "execution_count": 47,
   "metadata": {},
   "outputs": [],
   "source": [
    "\n",
    "import pandas as pd\n",
    "from sklearn.preprocessing import MinMaxScaler\n"
   ]
  },
  {
   "cell_type": "markdown",
   "metadata": {},
   "source": [
    "2,3. Importing data from the dataset"
   ]
  },
  {
   "cell_type": "code",
   "execution_count": 48,
   "metadata": {},
   "outputs": [
    {
     "data": {
      "text/html": [
       "<div>\n",
       "<style scoped>\n",
       "    .dataframe tbody tr th:only-of-type {\n",
       "        vertical-align: middle;\n",
       "    }\n",
       "\n",
       "    .dataframe tbody tr th {\n",
       "        vertical-align: top;\n",
       "    }\n",
       "\n",
       "    .dataframe thead th {\n",
       "        text-align: right;\n",
       "    }\n",
       "</style>\n",
       "<table border=\"1\" class=\"dataframe\">\n",
       "  <thead>\n",
       "    <tr style=\"text-align: right;\">\n",
       "      <th></th>\n",
       "      <th>gender</th>\n",
       "      <th>race/ethnicity</th>\n",
       "      <th>parental level of education</th>\n",
       "      <th>lunch</th>\n",
       "      <th>test preparation course</th>\n",
       "      <th>math score</th>\n",
       "      <th>reading score</th>\n",
       "      <th>writing score</th>\n",
       "    </tr>\n",
       "  </thead>\n",
       "  <tbody>\n",
       "    <tr>\n",
       "      <th>0</th>\n",
       "      <td>female</td>\n",
       "      <td>group B</td>\n",
       "      <td>bachelor's degree</td>\n",
       "      <td>standard</td>\n",
       "      <td>none</td>\n",
       "      <td>72</td>\n",
       "      <td>72.0</td>\n",
       "      <td>74.0</td>\n",
       "    </tr>\n",
       "    <tr>\n",
       "      <th>1</th>\n",
       "      <td>female</td>\n",
       "      <td>group C</td>\n",
       "      <td>some college</td>\n",
       "      <td>standard</td>\n",
       "      <td>completed</td>\n",
       "      <td>69</td>\n",
       "      <td>90.0</td>\n",
       "      <td>88.0</td>\n",
       "    </tr>\n",
       "    <tr>\n",
       "      <th>2</th>\n",
       "      <td>female</td>\n",
       "      <td>group B</td>\n",
       "      <td>master's degree</td>\n",
       "      <td>standard</td>\n",
       "      <td>none</td>\n",
       "      <td>90</td>\n",
       "      <td>95.0</td>\n",
       "      <td>93.0</td>\n",
       "    </tr>\n",
       "    <tr>\n",
       "      <th>3</th>\n",
       "      <td>male</td>\n",
       "      <td>group A</td>\n",
       "      <td>associate's degree</td>\n",
       "      <td>free/reduced</td>\n",
       "      <td>none</td>\n",
       "      <td>47</td>\n",
       "      <td>57.0</td>\n",
       "      <td>44.0</td>\n",
       "    </tr>\n",
       "    <tr>\n",
       "      <th>4</th>\n",
       "      <td>male</td>\n",
       "      <td>group C</td>\n",
       "      <td>some college</td>\n",
       "      <td>standard</td>\n",
       "      <td>none</td>\n",
       "      <td>76</td>\n",
       "      <td>78.0</td>\n",
       "      <td>75.0</td>\n",
       "    </tr>\n",
       "  </tbody>\n",
       "</table>\n",
       "</div>"
      ],
      "text/plain": [
       "   gender race/ethnicity parental level of education         lunch  \\\n",
       "0  female        group B           bachelor's degree      standard   \n",
       "1  female        group C                some college      standard   \n",
       "2  female        group B             master's degree      standard   \n",
       "3    male        group A          associate's degree  free/reduced   \n",
       "4    male        group C                some college      standard   \n",
       "\n",
       "  test preparation course math score  reading score  writing score  \n",
       "0                    none         72           72.0           74.0  \n",
       "1               completed         69           90.0           88.0  \n",
       "2                    none         90           95.0           93.0  \n",
       "3                    none         47           57.0           44.0  \n",
       "4                    none         76           78.0           75.0  "
      ]
     },
     "execution_count": 48,
     "metadata": {},
     "output_type": "execute_result"
    }
   ],
   "source": [
    "file = pd.read_csv('/workspaces/PICT_SEM_6/DSBDL/DSBDA_ASS1_DATASET.csv', sep=',')\n",
    "file.head()"
   ]
  },
  {
   "cell_type": "markdown",
   "metadata": {},
   "source": [
    "4. Shape - It is used to describe the number of rows and columns in dataset."
   ]
  },
  {
   "cell_type": "code",
   "execution_count": 49,
   "metadata": {},
   "outputs": [
    {
     "data": {
      "text/plain": [
       "(1000, 8)"
      ]
     },
     "execution_count": 49,
     "metadata": {},
     "output_type": "execute_result"
    }
   ],
   "source": [
    "file.shape"
   ]
  },
  {
   "cell_type": "markdown",
   "metadata": {},
   "source": [
    "4. dtypes - Give information about the data present in the dataset."
   ]
  },
  {
   "cell_type": "code",
   "execution_count": 50,
   "metadata": {},
   "outputs": [
    {
     "data": {
      "text/plain": [
       "gender                          object\n",
       "race/ethnicity                  object\n",
       "parental level of education     object\n",
       "lunch                           object\n",
       "test preparation course         object\n",
       "math score                      object\n",
       "reading score                  float64\n",
       "writing score                  float64\n",
       "dtype: object"
      ]
     },
     "execution_count": 50,
     "metadata": {},
     "output_type": "execute_result"
    }
   ],
   "source": [
    "file.dtypes"
   ]
  },
  {
   "cell_type": "code",
   "execution_count": 51,
   "metadata": {},
   "outputs": [
    {
     "data": {
      "text/plain": [
       "lunch\n",
       "standard        645\n",
       "free/reduced    355\n",
       "Name: count, dtype: int64"
      ]
     },
     "execution_count": 51,
     "metadata": {},
     "output_type": "execute_result"
    }
   ],
   "source": [
    "file.lunch.value_counts()"
   ]
  },
  {
   "cell_type": "markdown",
   "metadata": {},
   "source": [
    "4. isnull() - find the rowsa having null values"
   ]
  },
  {
   "cell_type": "code",
   "execution_count": 52,
   "metadata": {},
   "outputs": [
    {
     "data": {
      "text/plain": [
       "8"
      ]
     },
     "execution_count": 52,
     "metadata": {},
     "output_type": "execute_result"
    }
   ],
   "source": [
    "file.isnull().any().count()"
   ]
  },
  {
   "cell_type": "markdown",
   "metadata": {},
   "source": [
    "4. This will display the count of missing values for each column in your dataset."
   ]
  },
  {
   "cell_type": "code",
   "execution_count": 53,
   "metadata": {},
   "outputs": [
    {
     "data": {
      "text/plain": [
       "gender                         0\n",
       "race/ethnicity                 0\n",
       "parental level of education    0\n",
       "lunch                          0\n",
       "test preparation course        0\n",
       "math score                     8\n",
       "reading score                  6\n",
       "writing score                  9\n",
       "dtype: int64"
      ]
     },
     "execution_count": 53,
     "metadata": {},
     "output_type": "execute_result"
    }
   ],
   "source": [
    "file.isnull().sum()"
   ]
  },
  {
   "cell_type": "markdown",
   "metadata": {},
   "source": [
    "This will provide summary statistics like count, mean, std (standard deviation), min, 25th percentile, 50th percentile (median), 75th percentile, and max for numerical columns"
   ]
  },
  {
   "cell_type": "code",
   "execution_count": 54,
   "metadata": {},
   "outputs": [
    {
     "data": {
      "text/html": [
       "<div>\n",
       "<style scoped>\n",
       "    .dataframe tbody tr th:only-of-type {\n",
       "        vertical-align: middle;\n",
       "    }\n",
       "\n",
       "    .dataframe tbody tr th {\n",
       "        vertical-align: top;\n",
       "    }\n",
       "\n",
       "    .dataframe thead th {\n",
       "        text-align: right;\n",
       "    }\n",
       "</style>\n",
       "<table border=\"1\" class=\"dataframe\">\n",
       "  <thead>\n",
       "    <tr style=\"text-align: right;\">\n",
       "      <th></th>\n",
       "      <th>reading score</th>\n",
       "      <th>writing score</th>\n",
       "    </tr>\n",
       "  </thead>\n",
       "  <tbody>\n",
       "    <tr>\n",
       "      <th>count</th>\n",
       "      <td>994.000000</td>\n",
       "      <td>991.000000</td>\n",
       "    </tr>\n",
       "    <tr>\n",
       "      <th>mean</th>\n",
       "      <td>68.008048</td>\n",
       "      <td>69.487386</td>\n",
       "    </tr>\n",
       "    <tr>\n",
       "      <th>std</th>\n",
       "      <td>16.602270</td>\n",
       "      <td>29.563757</td>\n",
       "    </tr>\n",
       "    <tr>\n",
       "      <th>min</th>\n",
       "      <td>3.000000</td>\n",
       "      <td>10.000000</td>\n",
       "    </tr>\n",
       "    <tr>\n",
       "      <th>25%</th>\n",
       "      <td>58.000000</td>\n",
       "      <td>57.000000</td>\n",
       "    </tr>\n",
       "    <tr>\n",
       "      <th>50%</th>\n",
       "      <td>69.500000</td>\n",
       "      <td>69.000000</td>\n",
       "    </tr>\n",
       "    <tr>\n",
       "      <th>75%</th>\n",
       "      <td>79.000000</td>\n",
       "      <td>79.000000</td>\n",
       "    </tr>\n",
       "    <tr>\n",
       "      <th>max</th>\n",
       "      <td>100.000000</td>\n",
       "      <td>567.000000</td>\n",
       "    </tr>\n",
       "  </tbody>\n",
       "</table>\n",
       "</div>"
      ],
      "text/plain": [
       "       reading score  writing score\n",
       "count     994.000000     991.000000\n",
       "mean       68.008048      69.487386\n",
       "std        16.602270      29.563757\n",
       "min         3.000000      10.000000\n",
       "25%        58.000000      57.000000\n",
       "50%        69.500000      69.000000\n",
       "75%        79.000000      79.000000\n",
       "max       100.000000     567.000000"
      ]
     },
     "execution_count": 54,
     "metadata": {},
     "output_type": "execute_result"
    }
   ],
   "source": [
    "file.describe()"
   ]
  },
  {
   "cell_type": "markdown",
   "metadata": {},
   "source": [
    "5. Inspect unique values in columns to identify unexpected values that might indicate an incorrect data type."
   ]
  },
  {
   "cell_type": "code",
   "execution_count": 55,
   "metadata": {},
   "outputs": [
    {
     "name": "stdout",
     "output_type": "stream",
     "text": [
      "Unique values in gender:\n",
      " ['female' 'male']\n",
      "Unique values in race/ethnicity:\n",
      " ['group B' 'group C' 'group A' 'group D' 'group E']\n",
      "Unique values in parental level of education:\n",
      " [\"bachelor's degree\" 'some college' \"master's degree\" \"associate's degree\"\n",
      " 'high school' 'some high school']\n",
      "Unique values in lunch:\n",
      " ['standard' 'free/reduced']\n",
      "Unique values in test preparation course:\n",
      " ['none' 'completed']\n",
      "Unique values in math score:\n",
      " ['72' '69' '90' '47' '76' '71' '88' '40' '64' '38' '58' '65' '78' '50' nan\n",
      " '74' '73' '67' '70' '62' '63' '56' '81' '75' '57' '55' '53' '59' '66'\n",
      " '82' '77' '33' '52' '0' '79' '39' '45' '60' '61' '41' '49' '44' '30' '80'\n",
      " '42' '27' '43' '68' '85' '98' '87' '54' '51' '99' '84' '91' '83' '89'\n",
      " '22' '100' '96' '94' '46' '97' '48' '35' '34' '86' '92' '37' '28' '24'\n",
      " '113' '123' '?' '-89' '26' '334' '95' '36' '29' '32' '93' '19' '23' '8']\n",
      "Unique values in reading score:\n",
      " [ 72.  90.  95.  57.  78.  83.  43.  64.  60.  54.  52.  81.  53.  75.\n",
      "  89.  32.  22.  12.  13.  14.   9.   8.   7.   6.   4.   3.   5.  34.\n",
      "  11.  nan  56.  61.  73.  58.  65.  71.  74.  84.  55.  69.  44.  41.\n",
      "  85.  59.  17.  39.  80.  37.  63.  51.  49.  26.  68.  45.  47.  70.\n",
      "  86.  79.  66.  67.  91. 100.  76.  77.  82.  92.  93.  62.  88.  50.\n",
      "  28.  42.  87.  48.  46.  23.  38.  94.  97.  99.  31.  96.  24.  29.\n",
      "  40.]\n",
      "Unique values in writing score:\n",
      " [ 74.  88.  93.  44.  75.  78.  92.  39.  67.  50.  52.  43.  73.  70.\n",
      "  58.  86.  28.  46.  61.  63.  53.  nan  80.  72.  55.  65.  38.  82.\n",
      "  79.  83.  59.  57.  54.  68.  66.  62.  76.  48.  42.  87.  49.  10.\n",
      "  34.  71.  37.  56.  41.  22.  81.  45.  36.  89.  47.  90. 100.  64.\n",
      "  98.  51.  40.  84.  69.  33.  60.  85.  91.  77.  27.  94.  95.  19.\n",
      "  35.  32.  96.  97. 112. 114. 455. 567.  99.  15.  30. 554.  23.]\n"
     ]
    }
   ],
   "source": [
    "for column in file.columns:\n",
    "    unique_values = file[column].unique()\n",
    "    print(f\"Unique values in {column}:\\n\", unique_values)\n"
   ]
  },
  {
   "cell_type": "code",
   "execution_count": 56,
   "metadata": {},
   "outputs": [
    {
     "name": "stdout",
     "output_type": "stream",
     "text": [
      "Missing values:\n",
      " gender                         0\n",
      "race/ethnicity                 0\n",
      "parental level of education    0\n",
      "lunch                          0\n",
      "test preparation course        0\n",
      "math score                     8\n",
      "reading score                  6\n",
      "writing score                  9\n",
      "dtype: int64\n"
     ]
    }
   ],
   "source": [
    "missing_values = file.isnull().sum()\n",
    "print(\"Missing values:\\n\", missing_values)\n"
   ]
  },
  {
   "cell_type": "markdown",
   "metadata": {},
   "source": [
    "5. convert columns to the correct data type."
   ]
  },
  {
   "cell_type": "code",
   "execution_count": 57,
   "metadata": {},
   "outputs": [],
   "source": [
    "file['math score'] = pd.to_numeric(file['math score'], errors='coerce')\n"
   ]
  },
  {
   "cell_type": "markdown",
   "metadata": {},
   "source": [
    "5. Normalisation using hot encoding."
   ]
  },
  {
   "cell_type": "code",
   "execution_count": 58,
   "metadata": {},
   "outputs": [],
   "source": [
    "reading_score = file['reading score'].values.reshape(-1, 1)\n",
    "\n",
    "scaler = MinMaxScaler()\n",
    "\n",
    "file['reading score normalized'] = scaler.fit_transform(reading_score)"
   ]
  },
  {
   "cell_type": "markdown",
   "metadata": {},
   "source": [
    "6. Turning categorical variables into quantitative variables in Python"
   ]
  },
  {
   "cell_type": "code",
   "execution_count": 59,
   "metadata": {},
   "outputs": [],
   "source": [
    "file['test preparation course'].replace(['none' , 'completed'],[0,1], inplace=True)"
   ]
  },
  {
   "cell_type": "code",
   "execution_count": 60,
   "metadata": {},
   "outputs": [
    {
     "name": "stdout",
     "output_type": "stream",
     "text": [
      "Unique values in gender:\n",
      " ['female' 'male']\n",
      "Unique values in race/ethnicity:\n",
      " ['group B' 'group C' 'group A' 'group D' 'group E']\n",
      "Unique values in parental level of education:\n",
      " [\"bachelor's degree\" 'some college' \"master's degree\" \"associate's degree\"\n",
      " 'high school' 'some high school']\n",
      "Unique values in lunch:\n",
      " ['standard' 'free/reduced']\n",
      "Unique values in test preparation course:\n",
      " [0 1]\n",
      "Unique values in math score:\n",
      " [ 72.  69.  90.  47.  76.  71.  88.  40.  64.  38.  58.  65.  78.  50.\n",
      "  nan  74.  73.  67.  70.  62.  63.  56.  81.  75.  57.  55.  53.  59.\n",
      "  66.  82.  77.  33.  52.   0.  79.  39.  45.  60.  61.  41.  49.  44.\n",
      "  30.  80.  42.  27.  43.  68.  85.  98.  87.  54.  51.  99.  84.  91.\n",
      "  83.  89.  22. 100.  96.  94.  46.  97.  48.  35.  34.  86.  92.  37.\n",
      "  28.  24. 113. 123. -89.  26. 334.  95.  36.  29.  32.  93.  19.  23.\n",
      "   8.]\n",
      "Unique values in reading score:\n",
      " [ 72.  90.  95.  57.  78.  83.  43.  64.  60.  54.  52.  81.  53.  75.\n",
      "  89.  32.  22.  12.  13.  14.   9.   8.   7.   6.   4.   3.   5.  34.\n",
      "  11.  nan  56.  61.  73.  58.  65.  71.  74.  84.  55.  69.  44.  41.\n",
      "  85.  59.  17.  39.  80.  37.  63.  51.  49.  26.  68.  45.  47.  70.\n",
      "  86.  79.  66.  67.  91. 100.  76.  77.  82.  92.  93.  62.  88.  50.\n",
      "  28.  42.  87.  48.  46.  23.  38.  94.  97.  99.  31.  96.  24.  29.\n",
      "  40.]\n",
      "Unique values in writing score:\n",
      " [ 74.  88.  93.  44.  75.  78.  92.  39.  67.  50.  52.  43.  73.  70.\n",
      "  58.  86.  28.  46.  61.  63.  53.  nan  80.  72.  55.  65.  38.  82.\n",
      "  79.  83.  59.  57.  54.  68.  66.  62.  76.  48.  42.  87.  49.  10.\n",
      "  34.  71.  37.  56.  41.  22.  81.  45.  36.  89.  47.  90. 100.  64.\n",
      "  98.  51.  40.  84.  69.  33.  60.  85.  91.  77.  27.  94.  95.  19.\n",
      "  35.  32.  96.  97. 112. 114. 455. 567.  99.  15.  30. 554.  23.]\n",
      "Unique values in reading score normalized:\n",
      " [0.71134021 0.89690722 0.94845361 0.55670103 0.77319588 0.82474227\n",
      " 0.41237113 0.62886598 0.58762887 0.5257732  0.50515464 0.80412371\n",
      " 0.51546392 0.74226804 0.88659794 0.29896907 0.19587629 0.09278351\n",
      " 0.10309278 0.11340206 0.06185567 0.05154639 0.04123711 0.03092784\n",
      " 0.01030928 0.         0.02061856 0.31958763 0.08247423        nan\n",
      " 0.54639175 0.59793814 0.72164948 0.56701031 0.63917526 0.70103093\n",
      " 0.73195876 0.83505155 0.53608247 0.68041237 0.42268041 0.39175258\n",
      " 0.84536082 0.57731959 0.1443299  0.37113402 0.79381443 0.35051546\n",
      " 0.6185567  0.49484536 0.4742268  0.2371134  0.67010309 0.43298969\n",
      " 0.45360825 0.69072165 0.8556701  0.78350515 0.64948454 0.65979381\n",
      " 0.90721649 1.         0.75257732 0.7628866  0.81443299 0.91752577\n",
      " 0.92783505 0.60824742 0.87628866 0.48453608 0.25773196 0.40206186\n",
      " 0.86597938 0.46391753 0.44329897 0.20618557 0.36082474 0.93814433\n",
      " 0.96907216 0.98969072 0.28865979 0.95876289 0.21649485 0.26804124\n",
      " 0.3814433 ]\n"
     ]
    }
   ],
   "source": [
    "for column in file.columns:\n",
    "    unique_values = file[column].unique()\n",
    "    print(f\"Unique values in {column}:\\n\", unique_values)\n"
   ]
  }
 ],
 "metadata": {
  "kernelspec": {
   "display_name": "Python 3",
   "language": "python",
   "name": "python3"
  },
  "language_info": {
   "codemirror_mode": {
    "name": "ipython",
    "version": 3
   },
   "file_extension": ".py",
   "mimetype": "text/x-python",
   "name": "python",
   "nbconvert_exporter": "python",
   "pygments_lexer": "ipython3",
   "version": "3.10.13"
  }
 },
 "nbformat": 4,
 "nbformat_minor": 2
}
