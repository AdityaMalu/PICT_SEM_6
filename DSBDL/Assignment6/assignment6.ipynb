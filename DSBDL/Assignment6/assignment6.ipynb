{
 "cells": [
  {
   "cell_type": "code",
   "execution_count": 18,
   "metadata": {},
   "outputs": [],
   "source": [
    "import numpy as np\n",
    "import matplotlib.pyplot as plt\n",
    "import pandas as pd\n",
    "import seaborn as sns\n",
    "from sklearn import datasets"
   ]
  },
  {
   "cell_type": "code",
   "execution_count": 19,
   "metadata": {},
   "outputs": [
    {
     "data": {
      "text/html": [
       "<div>\n",
       "<style scoped>\n",
       "    .dataframe tbody tr th:only-of-type {\n",
       "        vertical-align: middle;\n",
       "    }\n",
       "\n",
       "    .dataframe tbody tr th {\n",
       "        vertical-align: top;\n",
       "    }\n",
       "\n",
       "    .dataframe thead th {\n",
       "        text-align: right;\n",
       "    }\n",
       "</style>\n",
       "<table border=\"1\" class=\"dataframe\">\n",
       "  <thead>\n",
       "    <tr style=\"text-align: right;\">\n",
       "      <th></th>\n",
       "      <th>sepal length</th>\n",
       "      <th>sepal width</th>\n",
       "      <th>petal length</th>\n",
       "      <th>petal width</th>\n",
       "      <th>Category</th>\n",
       "    </tr>\n",
       "  </thead>\n",
       "  <tbody>\n",
       "    <tr>\n",
       "      <th>0</th>\n",
       "      <td>5.1</td>\n",
       "      <td>3.5</td>\n",
       "      <td>1.4</td>\n",
       "      <td>0.2</td>\n",
       "      <td>0</td>\n",
       "    </tr>\n",
       "    <tr>\n",
       "      <th>1</th>\n",
       "      <td>4.9</td>\n",
       "      <td>3.0</td>\n",
       "      <td>1.4</td>\n",
       "      <td>0.2</td>\n",
       "      <td>0</td>\n",
       "    </tr>\n",
       "    <tr>\n",
       "      <th>2</th>\n",
       "      <td>4.7</td>\n",
       "      <td>3.2</td>\n",
       "      <td>1.3</td>\n",
       "      <td>0.2</td>\n",
       "      <td>0</td>\n",
       "    </tr>\n",
       "    <tr>\n",
       "      <th>3</th>\n",
       "      <td>4.6</td>\n",
       "      <td>3.1</td>\n",
       "      <td>1.5</td>\n",
       "      <td>0.2</td>\n",
       "      <td>0</td>\n",
       "    </tr>\n",
       "    <tr>\n",
       "      <th>4</th>\n",
       "      <td>5.0</td>\n",
       "      <td>3.6</td>\n",
       "      <td>1.4</td>\n",
       "      <td>0.2</td>\n",
       "      <td>0</td>\n",
       "    </tr>\n",
       "    <tr>\n",
       "      <th>...</th>\n",
       "      <td>...</td>\n",
       "      <td>...</td>\n",
       "      <td>...</td>\n",
       "      <td>...</td>\n",
       "      <td>...</td>\n",
       "    </tr>\n",
       "    <tr>\n",
       "      <th>145</th>\n",
       "      <td>6.7</td>\n",
       "      <td>3.0</td>\n",
       "      <td>5.2</td>\n",
       "      <td>2.3</td>\n",
       "      <td>2</td>\n",
       "    </tr>\n",
       "    <tr>\n",
       "      <th>146</th>\n",
       "      <td>6.3</td>\n",
       "      <td>2.5</td>\n",
       "      <td>5.0</td>\n",
       "      <td>1.9</td>\n",
       "      <td>2</td>\n",
       "    </tr>\n",
       "    <tr>\n",
       "      <th>147</th>\n",
       "      <td>6.5</td>\n",
       "      <td>3.0</td>\n",
       "      <td>5.2</td>\n",
       "      <td>2.0</td>\n",
       "      <td>2</td>\n",
       "    </tr>\n",
       "    <tr>\n",
       "      <th>148</th>\n",
       "      <td>6.2</td>\n",
       "      <td>3.4</td>\n",
       "      <td>5.4</td>\n",
       "      <td>2.3</td>\n",
       "      <td>2</td>\n",
       "    </tr>\n",
       "    <tr>\n",
       "      <th>149</th>\n",
       "      <td>5.9</td>\n",
       "      <td>3.0</td>\n",
       "      <td>5.1</td>\n",
       "      <td>1.8</td>\n",
       "      <td>2</td>\n",
       "    </tr>\n",
       "  </tbody>\n",
       "</table>\n",
       "<p>150 rows × 5 columns</p>\n",
       "</div>"
      ],
      "text/plain": [
       "     sepal length  sepal width  petal length  petal width  Category\n",
       "0             5.1          3.5           1.4          0.2         0\n",
       "1             4.9          3.0           1.4          0.2         0\n",
       "2             4.7          3.2           1.3          0.2         0\n",
       "3             4.6          3.1           1.5          0.2         0\n",
       "4             5.0          3.6           1.4          0.2         0\n",
       "..            ...          ...           ...          ...       ...\n",
       "145           6.7          3.0           5.2          2.3         2\n",
       "146           6.3          2.5           5.0          1.9         2\n",
       "147           6.5          3.0           5.2          2.0         2\n",
       "148           6.2          3.4           5.4          2.3         2\n",
       "149           5.9          3.0           5.1          1.8         2\n",
       "\n",
       "[150 rows x 5 columns]"
      ]
     },
     "execution_count": 19,
     "metadata": {},
     "output_type": "execute_result"
    }
   ],
   "source": [
    "iris = datasets.load_iris()\n",
    "\n",
    "df = pd.DataFrame(iris.data, columns=['sepal length', 'sepal width', 'petal length', 'petal width'])\n",
    "df['Category'] = iris.target\n",
    "\n",
    "df\n"
   ]
  },
  {
   "cell_type": "code",
   "execution_count": 20,
   "metadata": {},
   "outputs": [
    {
     "data": {
      "text/plain": [
       "sepal length    0\n",
       "sepal width     0\n",
       "petal length    0\n",
       "petal width     0\n",
       "Category        0\n",
       "dtype: int64"
      ]
     },
     "execution_count": 20,
     "metadata": {},
     "output_type": "execute_result"
    }
   ],
   "source": [
    "df.isnull().sum()"
   ]
  },
  {
   "cell_type": "code",
   "execution_count": 21,
   "metadata": {},
   "outputs": [],
   "source": [
    "df['Category'] = df['Category'].replace({0:'setosa', 1:'versicolor' , 2:'virginica'})"
   ]
  },
  {
   "cell_type": "code",
   "execution_count": 22,
   "metadata": {},
   "outputs": [
    {
     "name": "stdout",
     "output_type": "stream",
     "text": [
      "Numeric columns , Index(['sepal length', 'sepal width', 'petal length', 'petal width'], dtype='object')\n",
      "Categorical columns , Index([], dtype='object')\n"
     ]
    }
   ],
   "source": [
    "numeric_columns = df.select_dtypes(include='number').columns\n",
    "print(f'Numeric columns , {numeric_columns}')\n",
    "\n",
    "categorical_columns = df.select_dtypes(include='category').columns\n",
    "print(f'Categorical columns , {categorical_columns}')\n"
   ]
  },
  {
   "cell_type": "code",
   "execution_count": 23,
   "metadata": {},
   "outputs": [
    {
     "data": {
      "text/plain": [
       "Text(0.5, 1.0, 'Histogram of Petal Length')"
      ]
     },
     "execution_count": 23,
     "metadata": {},
     "output_type": "execute_result"
    },
    {
     "data": {
      "image/png": "[encoded data removed]",
      "text/plain": [
       "<Figure size 720x576 with 4 Axes>"
      ]
     },
     "metadata": {
      "needs_background": "light"
     },
     "output_type": "display_data"
    }
   ],
   "source": [
    "fig,axes = plt.subplots(2,2,figsize = (10,8))\n",
    "sns.histplot(data = df,x = 'sepal length', bins=20,ax = axes[0,0])\n",
    "axes[0,0].set_title(\"Histogram of Sepal Length\")\n",
    "\n",
    "sns.histplot(data = df, x = 'sepal width' , bins=20 , ax = axes[0,1])\n",
    "axes[0,1].set_title(\"Histogram of Sepal Width\")\n",
    "\n",
    "sns.histplot(data = df, x = 'petal length' ,bins = 20, ax = axes[1,0])\n",
    "axes[1,0].set_title(\"Histogram of Petal Length\")\n",
    "\n",
    "sns.histplot(data = df, x = 'petal width' , bins= 20, ax = axes[1,1])\n",
    "axes[1,1].set_title(\"Histogram of Petal Length\")\n"
   ]
  },
  {
   "cell_type": "code",
   "execution_count": 24,
   "metadata": {},
   "outputs": [
    {
     "data": {
      "image/png": "[encoded data removed]",
      "text/plain": [
       "<Figure size 720x576 with 4 Axes>"
      ]
     },
     "metadata": {
      "needs_background": "light"
     },
     "output_type": "display_data"
    }
   ],
   "source": [
    "fig, axes = plt.subplots(2, 2, figsize=(10, 8))\n",
    "\n",
    "sns.boxplot(data=df, x='Category', y='sepal length', ax=axes[0, 0])\n",
    "axes[0, 0].set_title('Iris Sepal Length Boxplot')\n",
    "\n",
    "sns.boxplot(data=df, x='Category', y='sepal width', ax=axes[0, 1])\n",
    "axes[0, 1].set_title('Iris Sepal Width Boxplot')\n",
    "\n",
    "sns.boxplot(data=df, x='Category', y='petal length', ax=axes[1, 0])\n",
    "axes[1, 0].set_title('Iris Petal Length Boxplot')\n",
    "\n",
    "sns.boxplot(data=df, x='Category', y='petal width', ax=axes[1, 1])\n",
    "axes[1, 1].set_title('Iris Petal Width Boxplot')\n",
    "\n",
    "plt.tight_layout()\n",
    "\n",
    "plt.show()"
   ]
  },
  {
   "cell_type": "code",
   "execution_count": 25,
   "metadata": {},
   "outputs": [],
   "source": [
    "numerical_df = df.select_dtypes(include=['int64','float64'])\n",
    "q1 = numerical_df.quantile(0.25)\n",
    "q3 = numerical_df.quantile(0.75)\n",
    "\n",
    "IQR = q3-q1"
   ]
  },
  {
   "cell_type": "code",
   "execution_count": 26,
   "metadata": {},
   "outputs": [
    {
     "name": "stdout",
     "output_type": "stream",
     "text": [
      "Sepal width outliers: \n",
      "    sepal length  sepal width  petal length  petal width    Category\n",
      "15           5.7          4.4           1.5          0.4      setosa\n",
      "32           5.2          4.1           1.5          0.1      setosa\n",
      "33           5.5          4.2           1.4          0.2      setosa\n",
      "60           5.0          2.0           3.5          1.0  versicolor\n",
      "Sepal Length outliers: \n",
      "Empty DataFrame\n",
      "Columns: [sepal length, sepal width, petal length, petal width, Category]\n",
      "Index: []\n",
      "Petal width outliers: \n",
      "Empty DataFrame\n",
      "Columns: [sepal length, sepal width, petal length, petal width, Category]\n",
      "Index: []\n",
      "Petal length outliers: \n",
      "Empty DataFrame\n",
      "Columns: [sepal length, sepal width, petal length, petal width, Category]\n",
      "Index: []\n"
     ]
    }
   ],
   "source": [
    "swq1 = df['sepal width'].quantile(0.25)\n",
    "swq3 = df['sepal width'].quantile(0.75)\n",
    "\n",
    "sw_iqr = swq3-swq1\n",
    "\n",
    "sw_lb = swq1-1.5*sw_iqr\n",
    "sw_ub = swq3 + 1.5*sw_iqr\n",
    "\n",
    "sw_outliers = df[(df['sepal width']<sw_lb) | (df['sepal width']>sw_ub)]\n",
    "\n",
    "print(f\"Sepal width outliers: \\n{sw_outliers}\")\n",
    "\n",
    "\n",
    "slq1 = df['sepal length'].quantile(0.25)\n",
    "slq3 = df['sepal length'].quantile(0.75)\n",
    "\n",
    "sl_iqr = slq3 - slq1\n",
    "\n",
    "sl_lb = slq1 - 1.5*sl_iqr\n",
    "sl_ub = slq3 + 1.5*sl_iqr\n",
    "\n",
    "sl_outliers = df[(df['sepal length']<sl_lb) | (df['sepal length']>sl_ub)]\n",
    "\n",
    "print(f\"Sepal Length outliers: \\n{sl_outliers}\")\n",
    "\n",
    "\n",
    "pwq1 = df['petal width'].quantile(0.25)\n",
    "pwq3 = df['petal width'].quantile(0.75)\n",
    "\n",
    "pw_iqr = pwq3-pwq1\n",
    "\n",
    "pw_lb = pwq1-1.5*pw_iqr\n",
    "pw_ub = pwq3 + 1.5*pw_iqr\n",
    "\n",
    "pw_outliers = df[(df['petal width']<pw_lb) | (df['petal width']>pw_ub)]\n",
    "\n",
    "print(f\"Petal width outliers: \\n{pw_outliers}\")\n",
    "\n",
    "\n",
    "\n",
    "plq1 = df['petal length'].quantile(0.25)\n",
    "plq3 = df['petal length'].quantile(0.75)\n",
    "\n",
    "pl_iqr = plq3 - plq1\n",
    "\n",
    "pl_lb = plq1 - 1.5*pl_iqr\n",
    "pl_ub = plq3 + 1.5*pl_iqr\n",
    "pl_outliers = df[(df['petal length']<pl_lb) | (df['petal length']> pl_ub)]\n",
    "\n",
    "print(f'Petal length outliers: \\n{pl_outliers}')\n"
   ]
  }
 ],
 "metadata": {
  "interpreter": {
   "hash": "e7370f93d1d0cde622a1f8e1c04877d8463912d04d973331ad4851f04de6915a"
  },
  "kernelspec": {
   "display_name": "Python 3.8.10 64-bit",
   "language": "python",
   "name": "python3"
  },
  "language_info": {
   "codemirror_mode": {
    "name": "ipython",
    "version": 3
   },
   "file_extension": ".py",
   "mimetype": "text/x-python",
   "name": "python",
   "nbconvert_exporter": "python",
   "pygments_lexer": "ipython3",
   "version": "3.8.10"
  },
  "orig_nbformat": 4
 },
 "nbformat": 4,
 "nbformat_minor": 2
}
