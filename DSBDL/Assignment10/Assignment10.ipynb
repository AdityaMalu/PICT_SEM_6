{
 "cells": [
  {
   "cell_type": "code",
   "execution_count": null,
   "metadata": {},
   "outputs": [],
   "source": []
  },
  {
   "cell_type": "markdown",
   "metadata": {},
   "source": [
    "Data Analytics III\n",
    "1. Implement Simple Naive Bayes classification algorithm using Python/R on iris.csv\n",
    "dataset.\n",
    "2. ComputeConfusionmatrixtofindTP,FP,TN,FN,Accuracy,Errorrate,Precision, Recall on the given dataset. "
   ]
  },
  {
   "cell_type": "code",
   "execution_count": 2,
   "metadata": {},
   "outputs": [],
   "source": [
    "import numpy as np   \n",
    "import pandas as pd    \n",
    "import matplotlib.pyplot as plt \n",
    "%matplotlib inline \n",
    "import seaborn as sns\n",
    "from sklearn.naive_bayes import GaussianNB\n",
    "from sklearn.preprocessing import StandardScaler\n",
    "import matplotlib.pyplot as plt\n",
    "import seaborn as sns\n",
    "import warnings\n",
    "warnings.filterwarnings('ignore')\n",
    "from sklearn.model_selection import train_test_split\n",
    "from scipy.stats import zscore\n",
    "import numpy as np\n",
    "from sklearn.metrics import accuracy_score, precision_score,recall_score,f1_score,confusion_matrix"
   ]
  },
  {
   "cell_type": "code",
   "execution_count": 3,
   "metadata": {},
   "outputs": [
    {
     "data": {
      "text/html": [
       "<div>\n",
       "<style scoped>\n",
       "    .dataframe tbody tr th:only-of-type {\n",
       "        vertical-align: middle;\n",
       "    }\n",
       "\n",
       "    .dataframe tbody tr th {\n",
       "        vertical-align: top;\n",
       "    }\n",
       "\n",
       "    .dataframe thead th {\n",
       "        text-align: right;\n",
       "    }\n",
       "</style>\n",
       "<table border=\"1\" class=\"dataframe\">\n",
       "  <thead>\n",
       "    <tr style=\"text-align: right;\">\n",
       "      <th></th>\n",
       "      <th>Id</th>\n",
       "      <th>SepalLengthCm</th>\n",
       "      <th>SepalWidthCm</th>\n",
       "      <th>PetalLengthCm</th>\n",
       "      <th>PetalWidthCm</th>\n",
       "      <th>Species</th>\n",
       "    </tr>\n",
       "  </thead>\n",
       "  <tbody>\n",
       "    <tr>\n",
       "      <th>0</th>\n",
       "      <td>1</td>\n",
       "      <td>5.1</td>\n",
       "      <td>3.5</td>\n",
       "      <td>1.4</td>\n",
       "      <td>0.2</td>\n",
       "      <td>Iris-setosa</td>\n",
       "    </tr>\n",
       "    <tr>\n",
       "      <th>1</th>\n",
       "      <td>2</td>\n",
       "      <td>4.9</td>\n",
       "      <td>3.0</td>\n",
       "      <td>1.4</td>\n",
       "      <td>0.2</td>\n",
       "      <td>Iris-setosa</td>\n",
       "    </tr>\n",
       "    <tr>\n",
       "      <th>2</th>\n",
       "      <td>3</td>\n",
       "      <td>4.7</td>\n",
       "      <td>3.2</td>\n",
       "      <td>1.3</td>\n",
       "      <td>0.2</td>\n",
       "      <td>Iris-setosa</td>\n",
       "    </tr>\n",
       "    <tr>\n",
       "      <th>3</th>\n",
       "      <td>4</td>\n",
       "      <td>4.6</td>\n",
       "      <td>3.1</td>\n",
       "      <td>1.5</td>\n",
       "      <td>0.2</td>\n",
       "      <td>Iris-setosa</td>\n",
       "    </tr>\n",
       "    <tr>\n",
       "      <th>4</th>\n",
       "      <td>5</td>\n",
       "      <td>5.0</td>\n",
       "      <td>3.6</td>\n",
       "      <td>1.4</td>\n",
       "      <td>0.2</td>\n",
       "      <td>Iris-setosa</td>\n",
       "    </tr>\n",
       "  </tbody>\n",
       "</table>\n",
       "</div>"
      ],
      "text/plain": [
       "   Id  SepalLengthCm  SepalWidthCm  PetalLengthCm  PetalWidthCm      Species\n",
       "0   1            5.1           3.5            1.4           0.2  Iris-setosa\n",
       "1   2            4.9           3.0            1.4           0.2  Iris-setosa\n",
       "2   3            4.7           3.2            1.3           0.2  Iris-setosa\n",
       "3   4            4.6           3.1            1.5           0.2  Iris-setosa\n",
       "4   5            5.0           3.6            1.4           0.2  Iris-setosa"
      ]
     },
     "execution_count": 3,
     "metadata": {},
     "output_type": "execute_result"
    }
   ],
   "source": [
    "\n",
    "# Load the dataset\n",
    "dataset = pd.read_csv(\"Iris.csv\")\n",
    "dataset.head()"
   ]
  },
  {
   "cell_type": "code",
   "execution_count": 4,
   "metadata": {},
   "outputs": [
    {
     "data": {
      "text/plain": [
       "(150, 6)"
      ]
     },
     "execution_count": 4,
     "metadata": {},
     "output_type": "execute_result"
    }
   ],
   "source": [
    "dataset.shape"
   ]
  },
  {
   "cell_type": "code",
   "execution_count": 5,
   "metadata": {},
   "outputs": [
    {
     "data": {
      "text/plain": [
       "Id                 int64\n",
       "SepalLengthCm    float64\n",
       "SepalWidthCm     float64\n",
       "PetalLengthCm    float64\n",
       "PetalWidthCm     float64\n",
       "Species           object\n",
       "dtype: object"
      ]
     },
     "execution_count": 5,
     "metadata": {},
     "output_type": "execute_result"
    }
   ],
   "source": [
    "dataset.dtypes"
   ]
  },
  {
   "cell_type": "code",
   "execution_count": 6,
   "metadata": {},
   "outputs": [
    {
     "data": {
      "text/plain": [
       "Id               0\n",
       "SepalLengthCm    0\n",
       "SepalWidthCm     0\n",
       "PetalLengthCm    0\n",
       "PetalWidthCm     0\n",
       "Species          0\n",
       "dtype: int64"
      ]
     },
     "execution_count": 6,
     "metadata": {},
     "output_type": "execute_result"
    }
   ],
   "source": [
    "dataset.isnull().sum()"
   ]
  },
  {
   "cell_type": "code",
   "execution_count": 7,
   "metadata": {},
   "outputs": [
    {
     "data": {
      "text/plain": [
       "Species\n",
       "Iris-setosa        50\n",
       "Iris-versicolor    50\n",
       "Iris-virginica     50\n",
       "Name: count, dtype: int64"
      ]
     },
     "execution_count": 7,
     "metadata": {},
     "output_type": "execute_result"
    }
   ],
   "source": [
    "dataset['Species'].value_counts()"
   ]
  },
  {
   "cell_type": "code",
   "execution_count": 8,
   "metadata": {},
   "outputs": [
    {
     "name": "stdout",
     "output_type": "stream",
     "text": [
      "['Id', 'SepalLengthCm', 'SepalWidthCm', 'PetalLengthCm', 'PetalWidthCm']\n"
     ]
    }
   ],
   "source": [
    "numeric_cols = list(dataset.drop(['Species'],axis = 1).columns)\n",
    "print(numeric_cols)\n",
    "z = np.abs(zscore(dataset[numeric_cols]))\n",
    "threshold = 3\n",
    "dataset = dataset[(z < 3).all(axis=1)]"
   ]
  },
  {
   "cell_type": "code",
   "execution_count": 9,
   "metadata": {},
   "outputs": [],
   "source": [
    "x = dataset.drop(['Id','Species'],axis = 1)\n",
    "y = dataset['Species']\n",
    "scaler = StandardScaler()\n",
    "x = scaler.fit_transform(x)"
   ]
  },
  {
   "cell_type": "code",
   "execution_count": 10,
   "metadata": {},
   "outputs": [
    {
     "data": {
      "text/html": [
       "<div>\n",
       "<style scoped>\n",
       "    .dataframe tbody tr th:only-of-type {\n",
       "        vertical-align: middle;\n",
       "    }\n",
       "\n",
       "    .dataframe tbody tr th {\n",
       "        vertical-align: top;\n",
       "    }\n",
       "\n",
       "    .dataframe thead th {\n",
       "        text-align: right;\n",
       "    }\n",
       "</style>\n",
       "<table border=\"1\" class=\"dataframe\">\n",
       "  <thead>\n",
       "    <tr style=\"text-align: right;\">\n",
       "      <th></th>\n",
       "      <th>SL</th>\n",
       "      <th>SW</th>\n",
       "      <th>PL</th>\n",
       "      <th>PW</th>\n",
       "    </tr>\n",
       "  </thead>\n",
       "  <tbody>\n",
       "    <tr>\n",
       "      <th>0</th>\n",
       "      <td>-0.898927</td>\n",
       "      <td>1.085374</td>\n",
       "      <td>-1.352896</td>\n",
       "      <td>-1.320511</td>\n",
       "    </tr>\n",
       "    <tr>\n",
       "      <th>1</th>\n",
       "      <td>-1.140478</td>\n",
       "      <td>-0.107257</td>\n",
       "      <td>-1.352896</td>\n",
       "      <td>-1.320511</td>\n",
       "    </tr>\n",
       "    <tr>\n",
       "      <th>2</th>\n",
       "      <td>-1.382029</td>\n",
       "      <td>0.369796</td>\n",
       "      <td>-1.409888</td>\n",
       "      <td>-1.320511</td>\n",
       "    </tr>\n",
       "    <tr>\n",
       "      <th>3</th>\n",
       "      <td>-1.502804</td>\n",
       "      <td>0.131269</td>\n",
       "      <td>-1.295904</td>\n",
       "      <td>-1.320511</td>\n",
       "    </tr>\n",
       "    <tr>\n",
       "      <th>4</th>\n",
       "      <td>-1.019702</td>\n",
       "      <td>1.323900</td>\n",
       "      <td>-1.352896</td>\n",
       "      <td>-1.320511</td>\n",
       "    </tr>\n",
       "  </tbody>\n",
       "</table>\n",
       "</div>"
      ],
      "text/plain": [
       "         SL        SW        PL        PW\n",
       "0 -0.898927  1.085374 -1.352896 -1.320511\n",
       "1 -1.140478 -0.107257 -1.352896 -1.320511\n",
       "2 -1.382029  0.369796 -1.409888 -1.320511\n",
       "3 -1.502804  0.131269 -1.295904 -1.320511\n",
       "4 -1.019702  1.323900 -1.352896 -1.320511"
      ]
     },
     "execution_count": 10,
     "metadata": {},
     "output_type": "execute_result"
    }
   ],
   "source": [
    "data_x = pd.DataFrame(x,columns=['SL','SW','PL','PW'])\n",
    "data_x.head()"
   ]
  },
  {
   "cell_type": "code",
   "execution_count": 11,
   "metadata": {},
   "outputs": [],
   "source": [
    "X_train, X_test, y_train, y_test = train_test_split(x, y, test_size=0.25, random_state=24)\n",
    "\n"
   ]
  },
  {
   "cell_type": "code",
   "execution_count": 12,
   "metadata": {},
   "outputs": [
    {
     "data": {
      "text/plain": [
       "(111,)"
      ]
     },
     "execution_count": 12,
     "metadata": {},
     "output_type": "execute_result"
    }
   ],
   "source": [
    "y_train.shape"
   ]
  },
  {
   "cell_type": "code",
   "execution_count": 13,
   "metadata": {},
   "outputs": [],
   "source": [
    "gnb = GaussianNB()\n"
   ]
  },
  {
   "cell_type": "code",
   "execution_count": 14,
   "metadata": {},
   "outputs": [],
   "source": [
    "gnb.fit(X_train, y_train)\n",
    "prediction = gnb.predict(X_test)"
   ]
  },
  {
   "cell_type": "code",
   "execution_count": 15,
   "metadata": {},
   "outputs": [],
   "source": [
    "labels = ['Iris-setosa', 'Iris-versicolor', 'Iris-virginica']"
   ]
  },
  {
   "cell_type": "code",
   "execution_count": 16,
   "metadata": {},
   "outputs": [
    {
     "name": "stdout",
     "output_type": "stream",
     "text": [
      "                 precision    recall  f1-score   support\n",
      "\n",
      "    Iris-setosa       1.00      1.00      1.00        11\n",
      "Iris-versicolor       1.00      0.83      0.91        12\n",
      " Iris-virginica       0.88      1.00      0.94        15\n",
      "\n",
      "       accuracy                           0.95        38\n",
      "      macro avg       0.96      0.94      0.95        38\n",
      "   weighted avg       0.95      0.95      0.95        38\n",
      "\n"
     ]
    }
   ],
   "source": [
    "from sklearn.metrics import classification_report\n",
    "nb_acc = accuracy_score(prediction,y_test)\n",
    "nb_precision = precision_score(prediction,y_test,average = 'macro')\n",
    "nb_recall = recall_score(prediction,y_test,average = \"macro\")\n",
    "nb_f1_score = f1_score(prediction,y_test,average = \"macro\")\n",
    "cm = confusion_matrix(y_test,prediction,labels = labels)\n",
    "cm_df = pd.DataFrame(cm,index = ['Setosa','Versicolor', 'Virginica'],columns = ['Setosa','Versicolor', 'Virginica'])\n",
    "print(classification_report(y_test,prediction))"
   ]
  },
  {
   "cell_type": "code",
   "execution_count": 17,
   "metadata": {},
   "outputs": [
    {
     "name": "stdout",
     "output_type": "stream",
     "text": [
      "Accuracy score:  0.9473684210526315\n",
      "Precision score:  0.9444444444444445\n",
      "Recall:  0.9607843137254902\n",
      "f1 score:  0.9488636363636364\n"
     ]
    }
   ],
   "source": [
    "print(\"Accuracy score: \",nb_acc)\n",
    "print(\"Precision score: \",nb_precision)\n",
    "print(\"Recall: \",nb_recall)\n",
    "print(\"f1 score: \",nb_f1_score)"
   ]
  },
  {
   "cell_type": "code",
   "execution_count": 22,
   "metadata": {},
   "outputs": [
    {
     "data": {
      "image/png": "[encoded data removed]",
      "text/plain": [
       "<Figure size 500x400 with 2 Axes>"
      ]
     },
     "metadata": {},
     "output_type": "display_data"
    }
   ],
   "source": [
    "plt.figure(figsize=(5,4))\n",
    "sns.heatmap(cm_df, annot=True)\n",
    "plt.title('Confusion Matrix')\n",
    "plt.ylabel('Actal Values')\n",
    "plt.xlabel('Predicted Values')\n",
    "plt.show()"
   ]
  },
  {
   "cell_type": "code",
   "execution_count": 23,
   "metadata": {},
   "outputs": [
    {
     "name": "stdout",
     "output_type": "stream",
     "text": [
      "Calculation based on confusion matrix\n",
      "\n",
      "Outcome values : n\n",
      " [[11  0  0]\n",
      " [ 0 10  2]\n",
      " [ 0  0 15]]\n"
     ]
    }
   ],
   "source": [
    "print(\"Calculation based on confusion matrix\\n\")\n",
    "print('Outcome values : n\\n',cm)"
   ]
  },
  {
   "cell_type": "code",
   "execution_count": 25,
   "metadata": {},
   "outputs": [],
   "source": [
    "TP_0 = cm[0,0]\n",
    "TP_1 = cm[1,1]\n",
    "TP_2 = cm[2,2]\n",
    "FN_0 = cm[0,1]+ cm[0,2]\n",
    "FN_1 = cm[1,0] + cm[1,2]\n",
    "FN_2 = cm[2,0] + cm[2,1]\n",
    "FP_0 = cm[1,0] + cm[2,0]\n",
    "FP_1 = cm[0,1] + cm[2,1]\n",
    "FP_2 = cm[0,2] + cm[1,2]\n",
    "TN_0 = cm[1,1] +cm[2,1]+ cm[2,2] +cm[1,2]\n",
    "TN_1 = cm[0,0] + cm[0,2] +cm[2,0] + cm[2,2]\n",
    "TN_2 = cm[0,0] + cm[0,1] + cm[1,0] + cm[1,1]"
   ]
  },
  {
   "cell_type": "code",
   "execution_count": 26,
   "metadata": {},
   "outputs": [
    {
     "name": "stdout",
     "output_type": "stream",
     "text": [
      "True positives for SETOSA,VERSICOLR,VIRGINICA: 11 10 15\n"
     ]
    }
   ],
   "source": [
    "print('True positives for SETOSA,VERSICOLR,VIRGINICA:', TP_0,TP_1,TP_2)\n"
   ]
  },
  {
   "cell_type": "code",
   "execution_count": 27,
   "metadata": {},
   "outputs": [
    {
     "name": "stdout",
     "output_type": "stream",
     "text": [
      "Acc of setosa  1.0\n",
      "Acc of setosa  0.9473684210526315\n",
      "Acc of setosa  0.9473684210526315\n",
      "Average accuracy: 0.9649122807017543\n"
     ]
    }
   ],
   "source": [
    "\n",
    "acc1 = (TP_0+TN_0)/(TP_0+TN_0+FP_0+FN_0)\n",
    "print(\"Acc of setosa \", acc1)\n",
    "acc2 = (TP_1+TN_1)/(TP_1+TN_1+FP_1+FN_1)\n",
    "print(\"Acc of setosa \", acc2)\n",
    "acc3 = (TP_2+TN_2)/(TP_2+TN_2+FP_2+FN_2)\n",
    "print(\"Acc of setosa \", acc3)\n",
    "avg_acc = (acc1+acc2+acc3)/3\n",
    "print(\"Average accuracy:\",avg_acc)"
   ]
  },
  {
   "cell_type": "code",
   "execution_count": 30,
   "metadata": {},
   "outputs": [
    {
     "name": "stdout",
     "output_type": "stream",
     "text": [
      "Recall of setosa  1.0\n",
      "Recall of setosa  0.8333333333333334\n",
      "Recall of setosa  1.0\n"
     ]
    }
   ],
   "source": [
    "\n",
    "prec1 = (TP_0)/(TP_0+FN_0)\n",
    "print(\"Recall of setosa \", rec1)\n",
    "prec2 = (TP_1)/(TP_1+FN_1)\n",
    "print(\"Recall of setosa \", rec2)\n",
    "prec3 = (TP_2)/(TP_2+FN_2)\n",
    "print(\"Recall of setosa \", rec3)"
   ]
  },
  {
   "cell_type": "code",
   "execution_count": 31,
   "metadata": {},
   "outputs": [
    {
     "name": "stdout",
     "output_type": "stream",
     "text": [
      "F1 Score of setosa  1.0\n",
      "F1 Score of setosa  0.8333333333333334\n",
      "F1 Score of setosa  1.0\n"
     ]
    }
   ],
   "source": [
    "f1score1 = 2*rec1*prec1/(rec1+prec1)\n",
    "print(\"F1 Score of setosa \", f1score1)\n",
    "f1score2 = 2*rec2*prec2/(rec2+prec2)\n",
    "print(\"F1 Score of setosa \", f1score2)\n",
    "f1score3 = 2*rec3*prec3/(rec3+prec3)\n",
    "print(\"F1 Score of setosa \", f1score3)"
   ]
  },
  {
   "cell_type": "code",
   "execution_count": 32,
   "metadata": {},
   "outputs": [
    {
     "name": "stdout",
     "output_type": "stream",
     "text": [
      "TP TN FP FN 36 74 2 2\n"
     ]
    }
   ],
   "source": [
    "\n",
    "TP = TP_0+TP_1+TP_2\n",
    "TN = TN_0+TN_1+TN_2\n",
    "FP = FP_0+FP_1+FP_2\n",
    "FN = FN_0+FN_1+FN_2\n",
    "print(\"TP TN FP FN\", TP,TN,FP,FN)"
   ]
  },
  {
   "cell_type": "code",
   "execution_count": 33,
   "metadata": {},
   "outputs": [
    {
     "name": "stdout",
     "output_type": "stream",
     "text": [
      "0.9649122807017544\n"
     ]
    }
   ],
   "source": [
    "\n",
    "accuracy = (TP+TN)/(TP+FP+TN+FN)\n",
    "print(accuracy)"
   ]
  },
  {
   "cell_type": "code",
   "execution_count": 34,
   "metadata": {},
   "outputs": [
    {
     "name": "stdout",
     "output_type": "stream",
     "text": [
      "Precision:  0.9473684210526315\n"
     ]
    }
   ],
   "source": [
    "\n",
    "precision = TP/(TP+FP)\n",
    "print(\"Precision: \", precision)"
   ]
  },
  {
   "cell_type": "code",
   "execution_count": 35,
   "metadata": {},
   "outputs": [
    {
     "name": "stdout",
     "output_type": "stream",
     "text": [
      "Recall:  0.9473684210526315\n"
     ]
    }
   ],
   "source": [
    "\n",
    "recall = TP /(TP+FN)\n",
    "print(\"Recall: \",recall)"
   ]
  },
  {
   "cell_type": "code",
   "execution_count": 36,
   "metadata": {},
   "outputs": [
    {
     "name": "stdout",
     "output_type": "stream",
     "text": [
      "Error rate =  0.03508771929824561\n"
     ]
    }
   ],
   "source": [
    "\n",
    "error_rate = (FP+FN)/(TP+TN+FP+FN)\n",
    "print(\"Error rate = \", error_rate)"
   ]
  },
  {
   "cell_type": "code",
   "execution_count": 37,
   "metadata": {},
   "outputs": [
    {
     "name": "stdout",
     "output_type": "stream",
     "text": [
      "Specificity or true negative rate :  0.9736842105263158\n",
      "False positive rate :  0.02631578947368421\n"
     ]
    }
   ],
   "source": [
    "\n",
    "true_neg_rate = TN/(TN+FP)\n",
    "false_pos_rate = FP/(TN+FP)\n",
    "print(\"Specificity or true negative rate : \",true_neg_rate)\n",
    "print(\"False positive rate : \",false_pos_rate)"
   ]
  },
  {
   "cell_type": "code",
   "execution_count": 38,
   "metadata": {},
   "outputs": [
    {
     "name": "stdout",
     "output_type": "stream",
     "text": [
      "F1-score:  0.9473684210526315\n"
     ]
    }
   ],
   "source": [
    "f1score = 2*(precision*recall)/(precision+recall)\n",
    "print(\"F1-score: \",f1score)"
   ]
  }
 ],
 "metadata": {
  "kernelspec": {
   "display_name": "Python 3",
   "language": "python",
   "name": "python3"
  },
  "language_info": {
   "codemirror_mode": {
    "name": "ipython",
    "version": 3
   },
   "file_extension": ".py",
   "mimetype": "text/x-python",
   "name": "python",
   "nbconvert_exporter": "python",
   "pygments_lexer": "ipython3",
   "version": "3.10.13"
  }
 },
 "nbformat": 4,
 "nbformat_minor": 2
}
