{
 "cells": [
  {
   "cell_type": "code",
   "execution_count": 2,
   "metadata": {},
   "outputs": [],
   "source": [
    "import numpy as np\n",
    "import pandas as pd"
   ]
  },
  {
   "cell_type": "code",
   "execution_count": 4,
   "metadata": {},
   "outputs": [
    {
     "name": "stdout",
     "output_type": "stream",
     "text": [
      "           0               1                            2             3  \\\n",
      "0     gender  race/ethnicity  parental level of education         lunch   \n",
      "1     female         group B            bachelor's degree      standard   \n",
      "2     female         group C                 some college      standard   \n",
      "3     female         group B              master's degree      standard   \n",
      "4       male         group A           associate's degree  free/reduced   \n",
      "...      ...             ...                          ...           ...   \n",
      "996   female         group E              master's degree      standard   \n",
      "997     male         group C                  high school  free/reduced   \n",
      "998   female         group C                  high school  free/reduced   \n",
      "999   female         group D                 some college      standard   \n",
      "1000  female         group D                 some college  free/reduced   \n",
      "\n",
      "                            4           5              6              7  \n",
      "0     test preparation course  math score  reading score  writing score  \n",
      "1                        none          72             72             74  \n",
      "2                   completed          69             90             88  \n",
      "3                        none          90             95             93  \n",
      "4                        none          47             57             44  \n",
      "...                       ...         ...            ...            ...  \n",
      "996                 completed          88             99             95  \n",
      "997                      none          62             55             55  \n",
      "998                 completed          59             71             65  \n",
      "999                 completed          68             78             77  \n",
      "1000                     none          77             86             86  \n",
      "\n",
      "[1001 rows x 8 columns]\n"
     ]
    }
   ],
   "source": [
    "file = pd.read_csv('/workspaces/PICT_SEM_6/DSBDL/DSBDA_ASS1_DATASET.csv', sep=',', header=None)\n",
    "print(file)"
   ]
  }
 ],
 "metadata": {
  "kernelspec": {
   "display_name": "Python 3",
   "language": "python",
   "name": "python3"
  },
  "language_info": {
   "codemirror_mode": {
    "name": "ipython",
    "version": 3
   },
   "file_extension": ".py",
   "mimetype": "text/x-python",
   "name": "python",
   "nbconvert_exporter": "python",
   "pygments_lexer": "ipython3",
   "version": "3.10.13"
  }
 },
 "nbformat": 4,
 "nbformat_minor": 2
}
